{
  "cells": [
    {
      "cell_type": "code",
      "execution_count": null,
      "metadata": {
        "id": "OKsG1GjbpUQJ"
      },
      "outputs": [],
      "source": [
        "from google.colab import drive\n",
        "drive.mount('/content/drive')"
      ]
    },
    {
      "cell_type": "markdown",
      "metadata": {
        "id": "Alcj2IX0pNJj"
      },
      "source": [
        "Setting Up the Environment:"
      ]
    },
    {
      "cell_type": "code",
      "execution_count": null,
      "metadata": {
        "id": "ZlP3gBCXoJEa"
      },
      "outputs": [],
      "source": [
        "import os\n",
        "HOME = os.getcwd()\n",
        "print(HOME)\n",
        "\n"
      ]
    },
    {
      "cell_type": "markdown",
      "metadata": {
        "id": "TbfTo6g9p3Qh"
      },
      "source": [
        "Installing and Importing Libraries:"
      ]
    },
    {
      "cell_type": "markdown",
      "metadata": {
        "id": "ZGcANB87xAyX"
      },
      "source": [
        "Explore more on [ Ultralytics](https://www.ultralytics.com/)"
      ]
    },
    {
      "cell_type": "code",
      "execution_count": null,
      "metadata": {
        "id": "HHgiMRSWpzY-"
      },
      "outputs": [],
      "source": [
        "! pip install ultralytics==8.0.20\n",
        "\n",
        "from IPython import display\n",
        "display.clear_output()\n",
        "\n",
        "import ultralytics\n",
        "ultralytics.checks()\n"
      ]
    },
    {
      "cell_type": "markdown",
      "metadata": {
        "id": "re-Gj6jTp-kZ"
      },
      "source": [
        "Setting Up Roboflow and Downloading Dataset:"
      ]
    },
    {
      "cell_type": "markdown",
      "metadata": {
        "id": "C-a9tYj0v60v"
      },
      "source": [
        "You can explore different datasets on [Roboflow](https://roboflow.com)\n",
        "\n",
        "\n"
      ]
    },
    {
      "cell_type": "code",
      "execution_count": null,
      "metadata": {
        "id": "d2bVoLCQpzXN"
      },
      "outputs": [],
      "source": [
        "! pip install roboflow --quiet\n",
        "\n",
        "!mkdir {HOME}/datasets\n",
        "%cd {HOME}/datasets\n",
        "\n",
        "from roboflow import Roboflow\n",
        "rf = Roboflow(api_key=\"YOUR API KEY\")\n",
        "project = rf.workspace(\"potholesdetection\").project(\"potholes-detection\")\n",
        "dataset = project.version(1).download(\"Pothole_yolov8\")\n"
      ]
    },
    {
      "cell_type": "markdown",
      "metadata": {
        "id": "xphaqOH7qGqu"
      },
      "source": [
        "Training the YOLO Model:"
      ]
    },
    {
      "cell_type": "markdown",
      "metadata": {
        "id": "tErfAdACyTLG"
      },
      "source": [
        "PyTorch pretrained *.pt models as well as configuration *.yaml files can be passed to the YOLO() class to create a model instance in python:"
      ]
    },
    {
      "cell_type": "code",
      "execution_count": null,
      "metadata": {
        "id": "KvPQMiEhxw59"
      },
      "outputs": [],
      "source": [
        "\n",
        "from ultralytics import YOLO\n",
        "\n",
        "# Load a model\n",
        "model = YOLO(\"yolov8n.yaml\")  # build a new model from YAML\n",
        "model = YOLO(\"yolov8n.pt\")  # load a pretrained model (recommended for training)\n",
        "\n",
        "# Display model information (optional)\n",
        "model.info()\n",
        "\n",
        "# Train the model on the costom dataset for 30 epochs\n",
        "results = model.train(data=\"Dataset.yaml\", epochs=30, imgsz=800)"
      ]
    },
    {
      "cell_type": "markdown",
      "metadata": {
        "id": "0-iETVm1ygMO"
      },
      "source": [
        "CLI commands are available to directly run the models:"
      ]
    },
    {
      "cell_type": "code",
      "execution_count": null,
      "metadata": {
        "id": "6igbekrypzVI"
      },
      "outputs": [],
      "source": [
        "!yolo task=detect mode=train model=yolov8s.pt data={dataset.location}/data.yaml epochs=30 imgsz=800 plots=True\n"
      ]
    },
    {
      "cell_type": "markdown",
      "metadata": {
        "id": "gZY6_avyqQFk"
      },
      "source": [
        "Validation:"
      ]
    },
    {
      "cell_type": "code",
      "execution_count": null,
      "metadata": {
        "id": "aV3wSw5_qMSU"
      },
      "outputs": [],
      "source": [
        "!yolo task=detect mode=val model={HOME}/runs/detect/train/weights/best.pt data={dataset.location}/data.yaml\n"
      ]
    },
    {
      "cell_type": "markdown",
      "metadata": {
        "id": "rYlVIp1NqayI"
      },
      "source": [
        "Making Predictions :"
      ]
    },
    {
      "cell_type": "code",
      "execution_count": null,
      "metadata": {
        "id": "9bOlQTMjqXs6"
      },
      "outputs": [],
      "source": [
        "!yolo task=detect mode=predict model={HOME}/runs/detect/train/weights/best.pt conf=0.25 source={dataset.location}/test/images save=True\n"
      ]
    }
  ],
  "metadata": {
    "colab": {
      "provenance": []
    },
    "kernelspec": {
      "display_name": "Python 3",
      "name": "python3"
    },
    "language_info": {
      "name": "python"
    }
  },
  "nbformat": 4,
  "nbformat_minor": 0
}
